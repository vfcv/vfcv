{
  "nbformat": 4,
  "nbformat_minor": 0,
  "metadata": {
    "colab": {
      "name": "Cópia de Desafio__OO__24082022.ipynb",
      "provenance": [],
      "collapsed_sections": [],
      "authorship_tag": "ABX9TyNV5YWM6WNKrmRcS0bsltie",
      "include_colab_link": true
    },
    "kernelspec": {
      "name": "python3",
      "display_name": "Python 3"
    },
    "language_info": {
      "name": "python"
    }
  },
  "cells": [
    {
      "cell_type": "markdown",
      "metadata": {
        "id": "view-in-github",
        "colab_type": "text"
      },
      "source": [
        "<a href=\"https://colab.research.google.com/github/vfcv/vfcv/blob/main/Desafio__OO__24082022.ipynb\" target=\"_parent\"><img src=\"https://colab.research.google.com/assets/colab-badge.svg\" alt=\"Open In Colab\"/></a>"
      ]
    },
    {
      "cell_type": "code",
      "execution_count": null,
      "metadata": {
        "colab": {
          "base_uri": "https://localhost:8080/"
        },
        "id": "7FRF1fwkFRYn",
        "outputId": "abfff7a1-658c-4aa6-ce39-fd71b1773868"
      },
      "outputs": [
        {
          "output_type": "stream",
          "name": "stdout",
          "text": [
            "João Paulo Martins Lima\n"
          ]
        }
      ],
      "source": [
        "## Desafio ETE PD aula 24.08.2022\n",
        "## Professor cloves\n",
        "## Aluno Victor Fernando\n",
        "\n",
        "class Estudante: \n",
        "     def __init__(self, nomecompleto, matricula, origem, tipo, nivel_dificuldade): \n",
        "         self.nomecompleto = nomecompleto\n",
        "         self.matricula = matricula\n",
        "         self.origem = origem\n",
        "         self.tipo = tipo\n",
        "         self.nivel_dificuldade = nivel_dificuldade\n",
        "\n",
        "if __name__ == \"__main__\": \n",
        "     estudante1 = Estudante(\"João Paulo Martins Lima\", \"007693542\", \"Mercado de trabalho\", \"subsequente\", \"baixa\")\n",
        "     print(estudante1.nomecompleto)"
      ]
    },
    {
      "cell_type": "code",
      "source": [
        "## Desafio ETE PD aula 24.08.2022\n",
        "## Professor cloves\n",
        "## Aluno Victor Fernando\n",
        "## Exercício 02 - Conta bancária como objeto\n",
        "\n",
        "class ContaCorrente:\n",
        "    def __init__(self, nome, cpf, saldo, chequeespecial):\n",
        "        self.nome = nome\n",
        "        self.cpf = cpf\n",
        "        self.saldo = saldo\n",
        "        \n",
        "if __name__ == \"__main__\":\n",
        "  cliente1 = ContaCorrente(\"João Paulo Martins Lima\", \"00100910019\", \"2000\", \"600\")\n",
        "  print(f\"O cliente {cliente1.nome} CPF {cliente1.cpf} possui saldo de R${cliente1.saldo}\")"
      ],
      "metadata": {
        "id": "hNofVOCbCIQU",
        "outputId": "3fdc66f1-bcd7-44a0-fa72-940a78293c67",
        "colab": {
          "base_uri": "https://localhost:8080/"
        }
      },
      "execution_count": 26,
      "outputs": [
        {
          "output_type": "stream",
          "name": "stdout",
          "text": [
            "O cliente João Paulo Martins Lima CPF 00100910019 possui saldo de R$2000\n"
          ]
        }
      ]
    }
  ]
}