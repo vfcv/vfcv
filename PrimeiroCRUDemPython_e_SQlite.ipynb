{
  "nbformat": 4,
  "nbformat_minor": 0,
  "metadata": {
    "colab": {
      "provenance": [],
      "toc_visible": true,
      "authorship_tag": "ABX9TyNMHWnFBMFBocoYZRBy92wM",
      "include_colab_link": true
    },
    "kernelspec": {
      "name": "python3",
      "display_name": "Python 3"
    },
    "language_info": {
      "name": "python"
    }
  },
  "cells": [
    {
      "cell_type": "markdown",
      "metadata": {
        "id": "view-in-github",
        "colab_type": "text"
      },
      "source": [
        "<a href=\"https://colab.research.google.com/github/vfcv/vfcv/blob/main/PrimeiroCRUDemPython_e_SQlite.ipynb\" target=\"_parent\"><img src=\"https://colab.research.google.com/assets/colab-badge.svg\" alt=\"Open In Colab\"/></a>"
      ]
    },
    {
      "cell_type": "code",
      "execution_count": null,
      "metadata": {
        "colab": {
          "base_uri": "https://localhost:8080/"
        },
        "id": "QPEtsX_c8omR",
        "outputId": "6680624a-cb1c-4ecd-b7fc-6364cccb6f2d"
      },
      "outputs": [
        {
          "output_type": "stream",
          "name": "stdout",
          "text": [
            "[('Maria', 40, 'maria123@gmail.com'), ('Maria', 40, 'maria123@gmail.com'), ('Maria', 40, 'maria123@gmail.com'), ('Joao', 50, 'joao123@gmail.com'), ('Joao', 50, 'joao123@gmail.com')]\n"
          ]
        }
      ],
      "source": [
        "import sqlite3\n",
        "\n",
        "banco = sqlite3.connect('primeiro_banco.db')\n",
        "cursor = banco.cursor()\n",
        "#CRIAR TABELA com parametros de Nome, Idade, e Email\n",
        "#cursor.execute(\"CREATE TABLE pessoas (nome text,idade integer,email text)\")\n",
        "#Apos incluir um dado no banco de dados \"banco\" é necessario incluir comentario para que nao haja duplicações\n",
        "#cursor.execute(\"INSERT INTO pessoas VALUES('Maria',40,'maria123@gmail.com')\")\n",
        "cursor.execute(\"INSERT INTO pessoas VALUES('Joao',50,'joao123@gmail.com')\")\n",
        "banco.commit()\n",
        "\n",
        "cursor.execute(\"SELECT * FROM pessoas\")\n",
        "print(cursor.fetchall())"
      ]
    }
  ]
}